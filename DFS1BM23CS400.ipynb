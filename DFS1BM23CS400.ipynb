{
  "nbformat": 4,
  "nbformat_minor": 0,
  "metadata": {
    "colab": {
      "provenance": [],
      "toc_visible": true,
      "authorship_tag": "ABX9TyODUm/riT0OvYxIoAa1fOO7",
      "include_colab_link": true
    },
    "kernelspec": {
      "name": "python3",
      "display_name": "Python 3"
    },
    "language_info": {
      "name": "python"
    }
  },
  "cells": [
    {
      "cell_type": "markdown",
      "metadata": {
        "id": "view-in-github",
        "colab_type": "text"
      },
      "source": [
        "<a href=\"https://colab.research.google.com/github/ash7-g/AI-1BM23CS400/blob/main/DFS1BM23CS400.ipynb\" target=\"_parent\"><img src=\"https://colab.research.google.com/assets/colab-badge.svg\" alt=\"Open In Colab\"/></a>"
      ]
    },
    {
      "cell_type": "code",
      "source": [
        "class PuzzleState:\n",
        "    def __init__(self, board, empty_pos, moves=[]):\n",
        "        self.board = board\n",
        "        self.empty_pos = empty_pos\n",
        "        self.moves = moves\n",
        "\n",
        "    def is_goal(self):\n",
        "        return self.board == [[1, 2, 3], [4, 5, 6], [7, 8, 0]]\n",
        "\n",
        "    def get_possible_moves(self):\n",
        "        possible_moves = []\n",
        "        x, y = self.empty_pos\n",
        "        directions = [(-1, 0), (1, 0), (0, -1), (0, 1)]  # Up, Down, Left, Right\n",
        "\n",
        "        for dx, dy in directions:\n",
        "            new_x, new_y = x + dx, y + dy\n",
        "            if 0 <= new_x < 3 and 0 <= new_y < 3:  # Stay within bounds\n",
        "                new_empty_pos = (new_x, new_y)\n",
        "                new_board = self.swap(self.board, self.empty_pos, new_empty_pos)\n",
        "                possible_moves.append((new_board, new_empty_pos))\n",
        "\n",
        "        return possible_moves\n",
        "\n",
        "    def swap(self, board, pos1, pos2):\n",
        "        new_board = [row[:] for row in board]  # Create a deep copy of the board\n",
        "        idx1 = pos1[0], pos1[1]\n",
        "        idx2 = pos2[0], pos2[1]\n",
        "        new_board[idx1[0]][idx1[1]], new_board[idx2[0]][idx2[1]] = new_board[idx2[0]][idx2[1]], new_board[idx1[0]][idx1[1]]\n",
        "        return new_board\n",
        "\n",
        "    def __str__(self):\n",
        "        return \"\\n\".join(str(row) for row in self.board)\n",
        "\n",
        "\n",
        "def dfs(initial_state):\n",
        "    stack = [initial_state]\n",
        "    visited = set()\n",
        "\n",
        "    while stack:\n",
        "        current_state = stack.pop()\n",
        "\n",
        "        if current_state.is_goal():\n",
        "            return current_state.moves\n",
        "\n",
        "        visited.add(tuple(tuple(row) for row in current_state.board))\n",
        "\n",
        "        # Display current state and possible moves\n",
        "        print(\"Current State:\")\n",
        "        print(current_state)\n",
        "        print(\"Possible Moves:\")\n",
        "\n",
        "        for next_board, next_empty_pos in current_state.get_possible_moves():\n",
        "            print(next_board)\n",
        "            if tuple(tuple(row) for row in next_board) not in visited:\n",
        "                new_moves = current_state.moves + [next_board]\n",
        "                stack.append(PuzzleState(next_board, next_empty_pos, new_moves))\n",
        "\n",
        "        print()\n",
        "\n",
        "    return None\n",
        "\n",
        "\n",
        "def main():\n",
        "    initial_board = [[1, 2, 3], [4, 5, 6], [0, 7, 8]]\n",
        "    empty_pos = (2, 0)\n",
        "\n",
        "    initial_state = PuzzleState(initial_board, empty_pos)\n",
        "    solution = dfs(initial_state)\n",
        "\n",
        "    if solution:\n",
        "        print(\"Solution found:\")\n",
        "        for step in solution:\n",
        "            print(step)\n",
        "    else:\n",
        "        print(\"No solution found.\")\n",
        "\n",
        "\n",
        "if __name__ == \"__main__\":\n",
        "    main()\n"
      ],
      "metadata": {
        "colab": {
          "base_uri": "https://localhost:8080/"
        },
        "id": "eAAQqARMdUYT",
        "outputId": "91bf504c-f1f5-49a6-b86a-8b37c8347055"
      },
      "execution_count": 11,
      "outputs": [
        {
          "output_type": "stream",
          "name": "stdout",
          "text": [
            "Current State:\n",
            "[1, 2, 3]\n",
            "[4, 5, 6]\n",
            "[0, 7, 8]\n",
            "Possible Moves:\n",
            "[[1, 2, 3], [0, 5, 6], [4, 7, 8]]\n",
            "[[1, 2, 3], [4, 5, 6], [7, 0, 8]]\n",
            "\n",
            "Current State:\n",
            "[1, 2, 3]\n",
            "[4, 5, 6]\n",
            "[7, 0, 8]\n",
            "Possible Moves:\n",
            "[[1, 2, 3], [4, 0, 6], [7, 5, 8]]\n",
            "[[1, 2, 3], [4, 5, 6], [0, 7, 8]]\n",
            "[[1, 2, 3], [4, 5, 6], [7, 8, 0]]\n",
            "\n",
            "Solution found:\n",
            "[[1, 2, 3], [4, 5, 6], [7, 0, 8]]\n",
            "[[1, 2, 3], [4, 5, 6], [7, 8, 0]]\n"
          ]
        }
      ]
    }
  ]
}