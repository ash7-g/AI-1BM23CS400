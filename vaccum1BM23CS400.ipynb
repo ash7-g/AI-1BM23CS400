{
  "nbformat": 4,
  "nbformat_minor": 0,
  "metadata": {
    "colab": {
      "provenance": [],
      "toc_visible": true,
      "authorship_tag": "ABX9TyOVM939IQcApwvZyQCpS4yz",
      "include_colab_link": true
    },
    "kernelspec": {
      "name": "python3",
      "display_name": "Python 3"
    },
    "language_info": {
      "name": "python"
    }
  },
  "cells": [
    {
      "cell_type": "markdown",
      "metadata": {
        "id": "view-in-github",
        "colab_type": "text"
      },
      "source": [
        "<a href=\"https://colab.research.google.com/github/ash7-g/AI-1BM23CS400/blob/main/vaccum1BM23CS400.ipynb\" target=\"_parent\"><img src=\"https://colab.research.google.com/assets/colab-badge.svg\" alt=\"Open In Colab\"/></a>"
      ]
    },
    {
      "cell_type": "code",
      "source": [
        "import random\n",
        "\n",
        "class Room:\n",
        "    def __init__(self):\n",
        "        self.state = 'dirty' if random.random() < 0.5 else 'clean'\n",
        "\n",
        "    def clean(self):\n",
        "        self.state = 'clean'\n",
        "\n",
        "class VacuumCleaner:\n",
        "    def __init__(self, grid_size):\n",
        "        self.grid_size = grid_size\n",
        "        self.environment = [[Room() for _ in range(grid_size)] for _ in range(grid_size)]\n",
        "        self.x, self.y = 0, 0  # Start position\n",
        "\n",
        "    def display_environment(self):\n",
        "        print(\"Current Environment:\")\n",
        "        for row in self.environment:\n",
        "            print(\" | \".join(room.state[0] for room in row))\n",
        "        print()\n",
        "\n",
        "    def move(self, direction):\n",
        "        if direction == 'up' and self.x > 0:\n",
        "            self.x -= 1\n",
        "        elif direction == 'down' and self.x < self.grid_size - 1:\n",
        "            self.x += 1\n",
        "        elif direction == 'left' and self.y > 0:\n",
        "            self.y -= 1\n",
        "        elif direction == 'right' and self.y < self.grid_size - 1:\n",
        "            self.y += 1\n",
        "\n",
        "    def clean_current_room(self):\n",
        "        if self.environment[self.x][self.y].state == 'dirty':\n",
        "            self.environment[self.x][self.y].clean()\n",
        "            print(f\"Cleaned room at ({self.x}, {self.y})\")\n",
        "\n",
        "    def is_all_clean(self):\n",
        "        return all(room.state == 'clean' for row in self.environment for room in row)\n",
        "\n",
        "    def run(self):\n",
        "        while not self.is_all_clean():\n",
        "            self.clean_current_room()\n",
        "            self.display_environment()\n",
        "\n",
        "            # Random move (up, down, left, right)\n",
        "            direction = random.choice(['up', 'down', 'left', 'right'])\n",
        "            self.move(direction)\n",
        "            print(f\"Moved {direction} to ({self.x}, {self.y})\")\n",
        "\n",
        "        print(\"All rooms are clean! Terminating.\")\n",
        "\n",
        "if __name__ == \"__main__\":\n",
        "    grid_size = int(input(\"Enter the size of the grid (number of rooms per side): \"))\n",
        "    vacuum_cleaner = VacuumCleaner(grid_size)\n",
        "    vacuum_cleaner.run()\n"
      ],
      "metadata": {
        "colab": {
          "base_uri": "https://localhost:8080/"
        },
        "id": "e4PnxkhKULl2",
        "outputId": "bec98103-8ccb-443d-f251-2409d07f205e"
      },
      "execution_count": 2,
      "outputs": [
        {
          "output_type": "stream",
          "name": "stdout",
          "text": [
            "Enter the size of the grid (number of rooms per side): 2\n",
            "Cleaned room at (0, 0)\n",
            "Current Environment:\n",
            "c | d\n",
            "d | c\n",
            "\n",
            "Moved right to (0, 1)\n",
            "Cleaned room at (0, 1)\n",
            "Current Environment:\n",
            "c | c\n",
            "d | c\n",
            "\n",
            "Moved right to (0, 1)\n",
            "Current Environment:\n",
            "c | c\n",
            "d | c\n",
            "\n",
            "Moved right to (0, 1)\n",
            "Current Environment:\n",
            "c | c\n",
            "d | c\n",
            "\n",
            "Moved up to (0, 1)\n",
            "Current Environment:\n",
            "c | c\n",
            "d | c\n",
            "\n",
            "Moved down to (1, 1)\n",
            "Current Environment:\n",
            "c | c\n",
            "d | c\n",
            "\n",
            "Moved right to (1, 1)\n",
            "Current Environment:\n",
            "c | c\n",
            "d | c\n",
            "\n",
            "Moved down to (1, 1)\n",
            "Current Environment:\n",
            "c | c\n",
            "d | c\n",
            "\n",
            "Moved up to (0, 1)\n",
            "Current Environment:\n",
            "c | c\n",
            "d | c\n",
            "\n",
            "Moved right to (0, 1)\n",
            "Current Environment:\n",
            "c | c\n",
            "d | c\n",
            "\n",
            "Moved left to (0, 0)\n",
            "Current Environment:\n",
            "c | c\n",
            "d | c\n",
            "\n",
            "Moved up to (0, 0)\n",
            "Current Environment:\n",
            "c | c\n",
            "d | c\n",
            "\n",
            "Moved up to (0, 0)\n",
            "Current Environment:\n",
            "c | c\n",
            "d | c\n",
            "\n",
            "Moved down to (1, 0)\n",
            "Cleaned room at (1, 0)\n",
            "Current Environment:\n",
            "c | c\n",
            "c | c\n",
            "\n",
            "Moved up to (0, 0)\n",
            "All rooms are clean! Terminating.\n"
          ]
        }
      ]
    },
    {
      "cell_type": "code",
      "source": [],
      "metadata": {
        "colab": {
          "base_uri": "https://localhost:8080/"
        },
        "id": "TB73RHA_Yy_s",
        "outputId": "fc184ad7-c5a6-4030-b8d7-e4c50b0e9c87"
      },
      "execution_count": 4,
      "outputs": [
        {
          "output_type": "stream",
          "name": "stdout",
          "text": [
            "Solution found! Moves: [0]\n"
          ]
        }
      ]
    }
  ]
}