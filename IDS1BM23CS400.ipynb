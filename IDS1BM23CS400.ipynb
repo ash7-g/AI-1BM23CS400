{
  "nbformat": 4,
  "nbformat_minor": 0,
  "metadata": {
    "colab": {
      "provenance": [],
      "toc_visible": true,
      "authorship_tag": "ABX9TyN6kCTtGcS/DQOgldMuMZJ2",
      "include_colab_link": true
    },
    "kernelspec": {
      "name": "python3",
      "display_name": "Python 3"
    },
    "language_info": {
      "name": "python"
    }
  },
  "cells": [
    {
      "cell_type": "markdown",
      "metadata": {
        "id": "view-in-github",
        "colab_type": "text"
      },
      "source": [
        "<a href=\"https://colab.research.google.com/github/ash7-g/AI-1BM23CS400/blob/main/IDS1BM23CS400.ipynb\" target=\"_parent\"><img src=\"https://colab.research.google.com/assets/colab-badge.svg\" alt=\"Open In Colab\"/></a>"
      ]
    },
    {
      "cell_type": "code",
      "source": [
        "class PuzzleState:\n",
        "    def __init__(self, board, empty_pos, moves=[]):\n",
        "        self.board = board  # 3x3 matrix\n",
        "        self.empty_pos = empty_pos  # Tuple (row, col)\n",
        "        self.moves = moves  # List of moves taken to reach this state\n",
        "\n",
        "    def is_goal(self):\n",
        "        return self.board == [[1, 2, 3], [4, 5, 6], [7, 8, 0]]\n",
        "\n",
        "    def get_possible_moves(self):\n",
        "        possible_moves = []\n",
        "        x, y = self.empty_pos\n",
        "        directions = [(-1, 0), (1, 0), (0, -1), (0, 1)]  # Up, Down, Left, Right\n",
        "\n",
        "        for dx, dy in directions:\n",
        "            new_x, new_y = x + dx, y + dy\n",
        "            if 0 <= new_x < 3 and 0 <= new_y < 3:  # Stay within bounds\n",
        "                new_empty_pos = (new_x, new_y)\n",
        "                new_board = self.swap(self.board, self.empty_pos, new_empty_pos)\n",
        "                possible_moves.append((new_board, new_empty_pos))\n",
        "\n",
        "        return possible_moves\n",
        "\n",
        "    def swap(self, board, pos1, pos2):\n",
        "        new_board = [row[:] for row in board]  # Create a deep copy of the board\n",
        "        idx1 = pos1[0], pos1[1]\n",
        "        idx2 = pos2[0], pos2[1]\n",
        "        new_board[idx1[0]][idx1[1]], new_board[idx2[0]][idx2[1]] = new_board[idx2[0]][idx2[1]], new_board[idx1[0]][idx1[1]]\n",
        "        return new_board\n",
        "\n",
        "    def __str__(self):\n",
        "        return \"\\n\".join(str(row) for row in self.board)\n",
        "\n",
        "\n",
        "def depth_limited_dfs(state, depth, visited):\n",
        "    if state.is_goal():\n",
        "        return state.moves\n",
        "\n",
        "    if depth == 0:\n",
        "        return None\n",
        "\n",
        "    visited.add(tuple(tuple(row) for row in state.board))\n",
        "    print(\"Current State (Depth {}):\".format(depth))\n",
        "    print(state)\n",
        "    print(\"Possible Moves:\")\n",
        "\n",
        "    for next_board, next_empty_pos in state.get_possible_moves():\n",
        "        if tuple(tuple(row) for row in next_board) not in visited:\n",
        "            new_moves = state.moves + [next_board]\n",
        "            result = depth_limited_dfs(PuzzleState(next_board, next_empty_pos, new_moves), depth - 1, visited)\n",
        "            if result is not None:\n",
        "                return result\n",
        "\n",
        "    print()  # Print a new line for better readability\n",
        "    return None\n",
        "\n",
        "\n",
        "def iterative_deepening_dfs(initial_state):\n",
        "    depth = 0\n",
        "    while True:\n",
        "        visited = set()\n",
        "        print(\"Searching at Depth:\", depth)\n",
        "        result = depth_limited_dfs(initial_state, depth, visited)\n",
        "        if result is not None:\n",
        "            return result\n",
        "        depth += 1\n",
        "\n",
        "\n",
        "def main():\n",
        "    initial_board = [[1, 2, 3], [4, 5, 6], [0, 7, 8]]  # Example starting state\n",
        "    empty_pos = (2, 0)  # Position of the empty tile (0)\n",
        "\n",
        "    initial_state = PuzzleState(initial_board, empty_pos)\n",
        "    solution = iterative_deepening_dfs(initial_state)\n",
        "\n",
        "    if solution:\n",
        "        print(\"Solution found:\")\n",
        "        for step in solution:\n",
        "            print(step)\n",
        "    else:\n",
        "        print(\"No solution found.\")\n",
        "\n",
        "\n",
        "if __name__ == \"__main__\":\n",
        "    main()\n"
      ],
      "metadata": {
        "colab": {
          "base_uri": "https://localhost:8080/"
        },
        "id": "e4PnxkhKULl2",
        "outputId": "62eb9585-0454-46c0-dc79-78e64892961f"
      },
      "execution_count": 10,
      "outputs": [
        {
          "output_type": "stream",
          "name": "stdout",
          "text": [
            "Searching at Depth: 0\n",
            "Searching at Depth: 1\n",
            "Current State (Depth 1):\n",
            "[1, 2, 3]\n",
            "[4, 5, 6]\n",
            "[0, 7, 8]\n",
            "Possible Moves:\n",
            "\n",
            "Searching at Depth: 2\n",
            "Current State (Depth 2):\n",
            "[1, 2, 3]\n",
            "[4, 5, 6]\n",
            "[0, 7, 8]\n",
            "Possible Moves:\n",
            "Current State (Depth 1):\n",
            "[1, 2, 3]\n",
            "[0, 5, 6]\n",
            "[4, 7, 8]\n",
            "Possible Moves:\n",
            "\n",
            "Current State (Depth 1):\n",
            "[1, 2, 3]\n",
            "[4, 5, 6]\n",
            "[7, 0, 8]\n",
            "Possible Moves:\n",
            "Solution found:\n",
            "[[1, 2, 3], [4, 5, 6], [7, 0, 8]]\n",
            "[[1, 2, 3], [4, 5, 6], [7, 8, 0]]\n"
          ]
        }
      ]
    },
    {
      "cell_type": "code",
      "source": [],
      "metadata": {
        "colab": {
          "base_uri": "https://localhost:8080/"
        },
        "id": "TB73RHA_Yy_s",
        "outputId": "fc184ad7-c5a6-4030-b8d7-e4c50b0e9c87"
      },
      "execution_count": 4,
      "outputs": [
        {
          "output_type": "stream",
          "name": "stdout",
          "text": [
            "Solution found! Moves: [0]\n"
          ]
        }
      ]
    }
  ]
}