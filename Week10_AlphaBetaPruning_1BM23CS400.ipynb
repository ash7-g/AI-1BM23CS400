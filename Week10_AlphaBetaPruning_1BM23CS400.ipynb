{
  "nbformat": 4,
  "nbformat_minor": 0,
  "metadata": {
    "colab": {
      "provenance": [],
      "authorship_tag": "ABX9TyMSPpj/CV5lYDrP5IYnVhiu",
      "include_colab_link": true
    },
    "kernelspec": {
      "name": "python3",
      "display_name": "Python 3"
    },
    "language_info": {
      "name": "python"
    }
  },
  "cells": [
    {
      "cell_type": "markdown",
      "metadata": {
        "id": "view-in-github",
        "colab_type": "text"
      },
      "source": [
        "<a href=\"https://colab.research.google.com/github/ash7-g/AI-1BM23CS400/blob/main/Week10_AlphaBetaPruning_1BM23CS400.ipynb\" target=\"_parent\"><img src=\"https://colab.research.google.com/assets/colab-badge.svg\" alt=\"Open In Colab\"/></a>"
      ]
    },
    {
      "cell_type": "code",
      "execution_count": 1,
      "metadata": {
        "colab": {
          "base_uri": "https://localhost:8080/"
        },
        "id": "sNJvCwJl1n-w",
        "outputId": "e042e456-a35a-4c14-fe3b-d73ce64ecab0"
      },
      "outputs": [
        {
          "output_type": "stream",
          "name": "stdout",
          "text": [
            "The optimal value is : 10\n"
          ]
        }
      ],
      "source": [
        "\n",
        "# Python3 program to demonstrate\n",
        "# working of Alpha-Beta Pruning\n",
        "\n",
        "# Initial values of Alpha and Beta\n",
        "MAX, MIN = 1000, -1000\n",
        "\n",
        "# Returns optimal value for current player\n",
        "#(Initially called for root and maximizer)\n",
        "def minimax(depth, nodeIndex, maximizingPlayer,\n",
        "            values, alpha, beta):\n",
        "\n",
        "    # Terminating condition. i.e\n",
        "    # leaf node is reached\n",
        "    if depth == 3:\n",
        "        return values[nodeIndex]\n",
        "\n",
        "    if maximizingPlayer:\n",
        "\n",
        "        best = MIN\n",
        "\n",
        "        # Recur for left and right children\n",
        "        for i in range(0, 2):\n",
        "\n",
        "            val = minimax(depth + 1, nodeIndex * 2 + i,\n",
        "                          False, values, alpha, beta)\n",
        "            best = max(best, val)\n",
        "            alpha = max(alpha, best)\n",
        "\n",
        "            # Alpha Beta Pruning\n",
        "            if beta <= alpha:\n",
        "                break\n",
        "\n",
        "        return best\n",
        "\n",
        "    else:\n",
        "        best = MAX\n",
        "\n",
        "        # Recur for left and\n",
        "        # right children\n",
        "        for i in range(0, 2):\n",
        "\n",
        "            val = minimax(depth + 1, nodeIndex * 2 + i,\n",
        "                            True, values, alpha, beta)\n",
        "            best = min(best, val)\n",
        "            beta = min(beta, best)\n",
        "\n",
        "            # Alpha Beta Pruning\n",
        "            if beta <= alpha:\n",
        "                break\n",
        "\n",
        "        return best\n",
        "\n",
        "# Driver Code\n",
        "if __name__ == \"__main__\":\n",
        "\n",
        "    values = [10, 9, 14, 18, 5, 4, 50, 3]\n",
        "    print(\"The optimal value is :\", minimax(0, 0, True, values, MIN, MAX))"
      ]
    }
  ]
}