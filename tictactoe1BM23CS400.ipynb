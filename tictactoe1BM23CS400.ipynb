{
  "nbformat": 4,
  "nbformat_minor": 0,
  "metadata": {
    "colab": {
      "provenance": [],
      "toc_visible": true,
      "authorship_tag": "ABX9TyMoEhidLwp1kCJa6sI/Uegn",
      "include_colab_link": true
    },
    "kernelspec": {
      "name": "python3",
      "display_name": "Python 3"
    },
    "language_info": {
      "name": "python"
    }
  },
  "cells": [
    {
      "cell_type": "markdown",
      "metadata": {
        "id": "view-in-github",
        "colab_type": "text"
      },
      "source": [
        "<a href=\"https://colab.research.google.com/github/ash7-g/AI-1BM23CS400/blob/main/tictactoe1BM23CS400.ipynb\" target=\"_parent\"><img src=\"https://colab.research.google.com/assets/colab-badge.svg\" alt=\"Open In Colab\"/></a>"
      ]
    },
    {
      "cell_type": "code",
      "source": [
        "import numpy as np\n",
        "import random\n",
        "\n",
        "board = np.array([[-1, -1, -1], [-1, -1, -1], [-1, -1, -1]])\n",
        "\n",
        "\n",
        "def check_win(b):\n",
        "    for i in range(3):\n",
        "        if (b[i, :] == 1).all() or (b[:, i] == 1).all():\n",
        "            return 1\n",
        "        if (b[i, :] == 0).all() or (b[:, i] == 0).all():\n",
        "            return 0\n",
        "    if (b[0, 0] == b[1, 1] == b[2, 2] == 1) or (b[0, 2] == b[1, 1] == b[2, 0] == 1):\n",
        "        return 1\n",
        "    if (b[0, 0] == b[1, 1] == b[2, 2] == 0) or (b[0, 2] == b[1, 1] == b[2, 0] == 0):\n",
        "        return 0\n",
        "    return -1\n",
        "\n",
        "def is_full(b):\n",
        "    return not (-1 in b)\n",
        "\n",
        "def print_board(b):\n",
        "    symbols = {1: 'X', 0: 'O', -1: ' '}\n",
        "    for row in b:\n",
        "        print(\" | \".join(symbols[cell] for cell in row))\n",
        "        print(\"---------\")\n",
        "\n",
        "def player_move():\n",
        "    while True:\n",
        "        row = int(input(\"Enter row (0, 1, or 2): \"))\n",
        "        col = int(input(\"Enter column (0, 1, or 2): \"))\n",
        "        if((row<=2 and row >=0)and(col<=2 and col >=0)):\n",
        "          if board[row, col] == -1:\n",
        "              board[row, col] = 1\n",
        "              break\n",
        "          else:\n",
        "              print(\"Cell is already occupied! Try again.\")\n",
        "        else:\n",
        "          print(\"Invalid input,please try again\")\n",
        "\n",
        "\n",
        "def machine_move():\n",
        "    empty_cells = [(r, c) for r in range(3) for c in range(3) if board[r, c] == -1]\n",
        "    if empty_cells:\n",
        "        row, col = random.choice(empty_cells)\n",
        "        board[row, col] = 0 # Machine uses 0 for 'O'\n",
        "        print(f\"Machine placed O at ({row}, {col})\")\n",
        "\n",
        "def play_game():\n",
        "    print(\"Welcome to Tic Tac Toe!\")\n",
        "    print_board(board)\n",
        "\n",
        "    while True:\n",
        "        print(\"Player 1's turn (X)\")\n",
        "        player_move()\n",
        "        print_board(board)\n",
        "\n",
        "        winner = check_win(board)\n",
        "        if winner != -1:\n",
        "            print(f\"Player {winner} wins!\")\n",
        "            break\n",
        "\n",
        "        if is_full(board):\n",
        "            print(\"It's a draw!\")\n",
        "            break\n",
        "\n",
        "        print(\"Machine's turn (O)\")\n",
        "        machine_move()\n",
        "        print_board(board)\n",
        "\n",
        "        winner = check_win(board)\n",
        "        if winner != -1:\n",
        "            print(f\"Player {winner} wins!\")\n",
        "            break\n",
        "\n",
        "        if is_full(board):\n",
        "            print(\"It's a draw!\")\n",
        "            break\n",
        "\n",
        "play_game()\n",
        "\n"
      ],
      "metadata": {
        "colab": {
          "base_uri": "https://localhost:8080/"
        },
        "id": "e4PnxkhKULl2",
        "outputId": "2271e3b6-41d7-47ce-9941-bf4dc435963e"
      },
      "execution_count": 5,
      "outputs": [
        {
          "output_type": "stream",
          "name": "stdout",
          "text": [
            "Welcome to Tic Tac Toe!\n",
            "  |   |  \n",
            "---------\n",
            "  |   |  \n",
            "---------\n",
            "  |   |  \n",
            "---------\n",
            "Player 1's turn (X)\n",
            "Enter row (0, 1, or 2): 0\n",
            "Enter column (0, 1, or 2): 0\n",
            "X |   |  \n",
            "---------\n",
            "  |   |  \n",
            "---------\n",
            "  |   |  \n",
            "---------\n",
            "Machine's turn (O)\n",
            "Machine placed O at (1, 1)\n",
            "X |   |  \n",
            "---------\n",
            "  | O |  \n",
            "---------\n",
            "  |   |  \n",
            "---------\n",
            "Player 1's turn (X)\n",
            "Enter row (0, 1, or 2): 2\n",
            "Enter column (0, 1, or 2): 2\n",
            "X |   |  \n",
            "---------\n",
            "  | O |  \n",
            "---------\n",
            "  |   | X\n",
            "---------\n",
            "Machine's turn (O)\n",
            "Machine placed O at (0, 1)\n",
            "X | O |  \n",
            "---------\n",
            "  | O |  \n",
            "---------\n",
            "  |   | X\n",
            "---------\n",
            "Player 1's turn (X)\n",
            "Enter row (0, 1, or 2): 2\n",
            "Enter column (0, 1, or 2): 1\n",
            "X | O |  \n",
            "---------\n",
            "  | O |  \n",
            "---------\n",
            "  | X | X\n",
            "---------\n",
            "Machine's turn (O)\n",
            "Machine placed O at (0, 2)\n",
            "X | O | O\n",
            "---------\n",
            "  | O |  \n",
            "---------\n",
            "  | X | X\n",
            "---------\n",
            "Player 1's turn (X)\n",
            "Enter row (0, 1, or 2): 2\n",
            "Enter column (0, 1, or 2): 0\n",
            "X | O | O\n",
            "---------\n",
            "  | O |  \n",
            "---------\n",
            "X | X | X\n",
            "---------\n",
            "Player 1 wins!\n"
          ]
        }
      ]
    },
    {
      "cell_type": "code",
      "source": [],
      "metadata": {
        "colab": {
          "base_uri": "https://localhost:8080/"
        },
        "id": "TB73RHA_Yy_s",
        "outputId": "fc184ad7-c5a6-4030-b8d7-e4c50b0e9c87"
      },
      "execution_count": 4,
      "outputs": [
        {
          "output_type": "stream",
          "name": "stdout",
          "text": [
            "Solution found! Moves: [0]\n"
          ]
        }
      ]
    }
  ]
}